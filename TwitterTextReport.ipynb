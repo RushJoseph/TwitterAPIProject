{
 "cells": [
  {
   "cell_type": "markdown",
   "id": "f54c85c0",
   "metadata": {},
   "source": [
    "# Darktide Media and Twitter Engagement\n",
    "### Joseph Rush\n",
    "\n",
    "On November 30th, 2022, Fatshark Games will be releasing Warhammer 40k: Darktide, an FPS PvE game and the third installment in its \"Tide\" series. On November 17th at 1300 EST, they will be releasing the closed pre-order beta. I set out to analyze the magnitude of interactions with their social media presence in the week leading up to the pre-order release. I also looked at the quantity of Darktide-related tweets coming from sources other than their primary @Darktide40k account as a measure of community \"hype.\"\n",
    "\n",
    "Which, if any, recent Darktide social media activity generated the most engagement in terms of likes and retweets? How did retweets of the main Darktide account compare to generation of original tweets by the wider community and media? How many of these accounts were interacting with each other around the subject of Darktide?"
   ]
  },
  {
   "cell_type": "markdown",
   "id": "ce0efdb5",
   "metadata": {},
   "source": [
    "I first built a wide-ranging query that would return tweets with the key word \"Darktide,\" that contained the marketing hashtags #darktide or #rejectswillrise, or that was from the main @Darktide40k account. This would gather both the official and community activity."
   ]
  },
  {
   "cell_type": "code",
   "execution_count": 528,
   "id": "d8dfe57b",
   "metadata": {},
   "outputs": [],
   "source": [
    "import pandas as pd\n",
    "import json\n",
    "import requests\n",
    "import urllib"
   ]
  },
  {
   "cell_type": "code",
   "execution_count": 529,
   "id": "06baefee",
   "metadata": {},
   "outputs": [],
   "source": [
    "endpoint = 'https://api.twitter.com/2/tweets/search/recent'\n",
    "bt = pd.read_csv('220922-TwitterBearerToken.txt', header = 0)"
   ]
  },
  {
   "cell_type": "code",
   "execution_count": 530,
   "id": "b12cf74c",
   "metadata": {},
   "outputs": [],
   "source": [
    "header = {'Authorization': 'Bearer {}'.format(bt['Bearer_Token'][0])}"
   ]
  },
  {
   "cell_type": "code",
   "execution_count": 531,
   "id": "dc726230",
   "metadata": {},
   "outputs": [],
   "source": [
    "query_text = 'darktide OR (#darktide OR #rejectswillrise) OR (from:darktide40k)'\n",
    "query_encoded = urllib.parse.quote(query_text)\n",
    "tweet_fields = 'author_id,created_at,public_metrics'\n",
    "user_fields = 'name'\n",
    "expansions = 'author_id'"
   ]
  },
  {
   "cell_type": "code",
   "execution_count": 532,
   "id": "d1514cfe",
   "metadata": {},
   "outputs": [
    {
     "data": {
      "text/plain": [
       "'https://api.twitter.com/2/tweets/search/recent?query=darktide%20OR%20%28%23darktide%20OR%20%23rejectswillrise%29%20OR%20%28from%3Adarktide40k%29&user.fields=name&tweet.fields=author_id,created_at,public_metrics&expansions=author_id'"
      ]
     },
     "execution_count": 532,
     "metadata": {},
     "output_type": "execute_result"
    }
   ],
   "source": [
    "query_url = endpoint + '?query={}&user.fields={}&tweet.fields={}&expansions={}'.format(query_encoded,user_fields,tweet_fields,expansions)\n",
    "query_url"
   ]
  },
  {
   "cell_type": "code",
   "execution_count": 541,
   "id": "fa48e293",
   "metadata": {},
   "outputs": [],
   "source": [
    "def twt_darktide_search (query, num_pages,header):\n",
    "    response_list = []\n",
    "    next_token = ''\n",
    "    for i in range(0, num_pages):\n",
    "        if i>0:\n",
    "            this_query = query + \"&next_token={}\".format(next_token)\n",
    "        else:\n",
    "            this_query = query\n",
    "            \n",
    "        this_response = requests.get(this_query, headers = header)\n",
    "        #print(str(i) + \" \" + str(this_response.status_code))\n",
    "        this_response_dict = json.loads(this_response.text)\n",
    "        response_list.append(this_response_dict)\n",
    "        next_token = this_response_dict['meta']['next_token']\n",
    "        \n",
    "    return response_list"
   ]
  },
  {
   "cell_type": "code",
   "execution_count": 542,
   "id": "6f4a4bc5",
   "metadata": {
    "scrolled": true
   },
   "outputs": [],
   "source": [
    "my_responses = twt_darktide_search(query_url, 150, header)"
   ]
  },
  {
   "cell_type": "code",
   "execution_count": 535,
   "id": "dcc4c095",
   "metadata": {
    "scrolled": true
   },
   "outputs": [],
   "source": [
    "results_1 = pd.DataFrame.from_records(my_responses)"
   ]
  },
  {
   "cell_type": "code",
   "execution_count": 536,
   "id": "89db708d",
   "metadata": {
    "scrolled": true
   },
   "outputs": [
    {
     "data": {
      "text/html": [
       "<div>\n",
       "<style scoped>\n",
       "    .dataframe tbody tr th:only-of-type {\n",
       "        vertical-align: middle;\n",
       "    }\n",
       "\n",
       "    .dataframe tbody tr th {\n",
       "        vertical-align: top;\n",
       "    }\n",
       "\n",
       "    .dataframe thead th {\n",
       "        text-align: right;\n",
       "    }\n",
       "</style>\n",
       "<table border=\"1\" class=\"dataframe\">\n",
       "  <thead>\n",
       "    <tr style=\"text-align: right;\">\n",
       "      <th></th>\n",
       "      <th>data</th>\n",
       "      <th>includes</th>\n",
       "      <th>meta</th>\n",
       "    </tr>\n",
       "  </thead>\n",
       "  <tbody>\n",
       "    <tr>\n",
       "      <th>0</th>\n",
       "      <td>[{'text': 'RT @Darktide40K_JP: 11月11日は #独身の日 ！...</td>\n",
       "      <td>{'users': [{'id': '1493470539423227907', 'name...</td>\n",
       "      <td>{'newest_id': '1593218995528032256', 'oldest_i...</td>\n",
       "    </tr>\n",
       "    <tr>\n",
       "      <th>1</th>\n",
       "      <td>[{'edit_history_tweet_ids': ['1593217366229659...</td>\n",
       "      <td>{'users': [{'id': '1578774917763301376', 'name...</td>\n",
       "      <td>{'newest_id': '1593217366229659648', 'oldest_i...</td>\n",
       "    </tr>\n",
       "    <tr>\n",
       "      <th>2</th>\n",
       "      <td>[{'author_id': '1555962195154010113', 'id': '1...</td>\n",
       "      <td>{'users': [{'id': '1555962195154010113', 'name...</td>\n",
       "      <td>{'newest_id': '1593215907983405056', 'oldest_i...</td>\n",
       "    </tr>\n",
       "    <tr>\n",
       "      <th>3</th>\n",
       "      <td>[{'author_id': '1569756545063469056', 'edit_hi...</td>\n",
       "      <td>{'users': [{'id': '1569756545063469056', 'name...</td>\n",
       "      <td>{'newest_id': '1593214087097454594', 'oldest_i...</td>\n",
       "    </tr>\n",
       "    <tr>\n",
       "      <th>4</th>\n",
       "      <td>[{'public_metrics': {'retweet_count': 0, 'repl...</td>\n",
       "      <td>{'users': [{'id': '3252467095', 'name': 'Hatas...</td>\n",
       "      <td>{'newest_id': '1593211915488354305', 'oldest_i...</td>\n",
       "    </tr>\n",
       "    <tr>\n",
       "      <th>...</th>\n",
       "      <td>...</td>\n",
       "      <td>...</td>\n",
       "      <td>...</td>\n",
       "    </tr>\n",
       "    <tr>\n",
       "      <th>145</th>\n",
       "      <td>[{'author_id': '78252816', 'edit_history_tweet...</td>\n",
       "      <td>{'users': [{'id': '78252816', 'name': 'Disco',...</td>\n",
       "      <td>{'newest_id': '1592805979082883073', 'oldest_i...</td>\n",
       "    </tr>\n",
       "    <tr>\n",
       "      <th>146</th>\n",
       "      <td>[{'text': 'Darktide配信はありまぁす(*‘ω‘ *)\n",
       "ただ金曜やるとは限ら...</td>\n",
       "      <td>{'users': [{'id': '1001209497640038400', 'name...</td>\n",
       "      <td>{'newest_id': '1592803224817631233', 'oldest_i...</td>\n",
       "    </tr>\n",
       "    <tr>\n",
       "      <th>147</th>\n",
       "      <td>[{'public_metrics': {'retweet_count': 0, 'repl...</td>\n",
       "      <td>{'users': [{'id': '1337486660527738880', 'name...</td>\n",
       "      <td>{'newest_id': '1592798985982730240', 'oldest_i...</td>\n",
       "    </tr>\n",
       "    <tr>\n",
       "      <th>148</th>\n",
       "      <td>[{'edit_history_tweet_ids': ['1592794950525014...</td>\n",
       "      <td>{'users': [{'id': '819618434124234753', 'name'...</td>\n",
       "      <td>{'newest_id': '1592794950525014018', 'oldest_i...</td>\n",
       "    </tr>\n",
       "    <tr>\n",
       "      <th>149</th>\n",
       "      <td>[{'text': 'Xbox Game Pass adds Gungrave GORE, ...</td>\n",
       "      <td>{'users': [{'id': '1592257262252425219', 'name...</td>\n",
       "      <td>{'newest_id': '1592789871621558274', 'oldest_i...</td>\n",
       "    </tr>\n",
       "  </tbody>\n",
       "</table>\n",
       "<p>150 rows × 3 columns</p>\n",
       "</div>"
      ],
      "text/plain": [
       "                                                  data  \\\n",
       "0    [{'text': 'RT @Darktide40K_JP: 11月11日は #独身の日 ！...   \n",
       "1    [{'edit_history_tweet_ids': ['1593217366229659...   \n",
       "2    [{'author_id': '1555962195154010113', 'id': '1...   \n",
       "3    [{'author_id': '1569756545063469056', 'edit_hi...   \n",
       "4    [{'public_metrics': {'retweet_count': 0, 'repl...   \n",
       "..                                                 ...   \n",
       "145  [{'author_id': '78252816', 'edit_history_tweet...   \n",
       "146  [{'text': 'Darktide配信はありまぁす(*‘ω‘ *)\n",
       "ただ金曜やるとは限ら...   \n",
       "147  [{'public_metrics': {'retweet_count': 0, 'repl...   \n",
       "148  [{'edit_history_tweet_ids': ['1592794950525014...   \n",
       "149  [{'text': 'Xbox Game Pass adds Gungrave GORE, ...   \n",
       "\n",
       "                                              includes  \\\n",
       "0    {'users': [{'id': '1493470539423227907', 'name...   \n",
       "1    {'users': [{'id': '1578774917763301376', 'name...   \n",
       "2    {'users': [{'id': '1555962195154010113', 'name...   \n",
       "3    {'users': [{'id': '1569756545063469056', 'name...   \n",
       "4    {'users': [{'id': '3252467095', 'name': 'Hatas...   \n",
       "..                                                 ...   \n",
       "145  {'users': [{'id': '78252816', 'name': 'Disco',...   \n",
       "146  {'users': [{'id': '1001209497640038400', 'name...   \n",
       "147  {'users': [{'id': '1337486660527738880', 'name...   \n",
       "148  {'users': [{'id': '819618434124234753', 'name'...   \n",
       "149  {'users': [{'id': '1592257262252425219', 'name...   \n",
       "\n",
       "                                                  meta  \n",
       "0    {'newest_id': '1593218995528032256', 'oldest_i...  \n",
       "1    {'newest_id': '1593217366229659648', 'oldest_i...  \n",
       "2    {'newest_id': '1593215907983405056', 'oldest_i...  \n",
       "3    {'newest_id': '1593214087097454594', 'oldest_i...  \n",
       "4    {'newest_id': '1593211915488354305', 'oldest_i...  \n",
       "..                                                 ...  \n",
       "145  {'newest_id': '1592805979082883073', 'oldest_i...  \n",
       "146  {'newest_id': '1592803224817631233', 'oldest_i...  \n",
       "147  {'newest_id': '1592798985982730240', 'oldest_i...  \n",
       "148  {'newest_id': '1592794950525014018', 'oldest_i...  \n",
       "149  {'newest_id': '1592789871621558274', 'oldest_i...  \n",
       "\n",
       "[150 rows x 3 columns]"
      ]
     },
     "execution_count": 536,
     "metadata": {},
     "output_type": "execute_result"
    }
   ],
   "source": [
    "results_1"
   ]
  },
  {
   "cell_type": "markdown",
   "id": "b954facc",
   "metadata": {},
   "source": [
    "## Comment\n",
    "\n",
    "The data coming out of the preceding function is arranged in a nonsensical way for reasons I don't understand. The Data items aren't consistent. Sometimes Text is the first thing, sometimes Author_ID, other times Public_Metrics, etc. I don't understand what's happening here and it's preventing me from proceeding with my code.\n",
    "\n",
    "Also, there's not enough of it. Each of those queries should be generating 10 tweets and then I am grabbing 150 pages of 10 tweets, but I only have 150 results. Something may be overwriting somewhere in a way I don't understand?\n",
    "\n",
    "## End Comment"
   ]
  },
  {
   "cell_type": "markdown",
   "id": "f78f0649",
   "metadata": {},
   "source": [
    "Once I had my tweet data, I needed to rearrange it.\n",
    "The main items I needed for a tweet were:\n",
    "1. Author ID\n",
    "2. Author name\n",
    "3. The text of the tweet\n",
    "4. Retweet count\n",
    "5. Reply count\n",
    "6. Like count\n",
    "7. Quote Count\n",
    "8. Date created\n",
    "9. The ID of the tweet itself\n",
    "\n",
    "I then created code to pull these items out and arrange them neatly for export into a csv, putting each tweet on its own row and those nine items into columns"
   ]
  },
  {
   "cell_type": "markdown",
   "id": "5cdbe1c4",
   "metadata": {},
   "source": [
    "First, I needed my keys in the data column so I could pull out the desired items."
   ]
  },
  {
   "cell_type": "markdown",
   "id": "7c628b30",
   "metadata": {},
   "source": [
    "Once I had those I could start pulling out the items I needed."
   ]
  },
  {
   "cell_type": "code",
   "execution_count": 543,
   "id": "2bb0bf12",
   "metadata": {},
   "outputs": [],
   "source": [
    "#ARRANGING CODE into ArrangedResults dataframe\n",
    "#Needs to arrange into the following columns:\n",
    "#1. id from 'Data'\n",
    "#2. text from 'Data'\n",
    "#3. name from 'includes''users'\n",
    "#5. reply_count from 'Data'\n",
    "#6. retweet_count from 'Data'\n",
    "#7. like_count from 'Data'\n",
    "#8. quote_count from 'Data'\n",
    "#9. created_at from 'Data'\n",
    "\n",
    "#The Data Frame would be represented here using the .head() function to demonstrate its arrangement."
   ]
  },
  {
   "cell_type": "markdown",
   "id": "c1d1f0e8",
   "metadata": {},
   "source": [
    "Once that was all arranged, the created ArrangedResults dataframe could be exported to csv so that I was not spamming the Twitter API or generating new data constantly."
   ]
  },
  {
   "cell_type": "code",
   "execution_count": null,
   "id": "86042557",
   "metadata": {},
   "outputs": [],
   "source": [
    "Arranged_Results_csv = ArrangedResults.to_csv()"
   ]
  },
  {
   "cell_type": "markdown",
   "id": "87de9c56",
   "metadata": {},
   "source": [
    "The data collected is a good representation of Twitter interactions within its limits. It represents both official Fatshark activity as well as the media and community, and measures the impact and spread both of these sources are having across the platform. It generates accurate data about interactions and content on the Twitter platform itself.\n",
    "\n",
    "You can analyze how many people are interacting with the community posts as well as the official posts. By including retweet data, the query allows an analysis of which accounts interact with the Fatshark account, which interact with community content, and any overlap or separation between the two.\n",
    "\n",
    "In addition, the date & time information allows you to track this engagement over time and see if particular tweets, particularly those from the official account, may have been related to more community activity as well as analyzing which official tweets generated the most direct interaction. You can also construct a timeline of overall activity by volume, allowing a crude tracking of \"hype\" levels leading up to the release.\n",
    "\n",
    "However, there are a few limitations worth noting.\n",
    "\n",
    "First, the data is limited to 1500 tweets by my level of Twitter API access, since it cuts off at 1500 or a week of time, whichever comes first.\n",
    "\n",
    "Second, the data itself is limited. It represents only Twitter, which is a small part of the social media footprint of a company and Twitter is not even a particularly strong driver of click-through and traffic. Fatshark's and Darktide's other social media and Discord activity is not represented here. The sample size of a Twitter audience is limited and Twitter is not a growing platform.\n",
    "\n",
    "Third, the data does not include information about click-through and traffic generation to Fatshark's official blog and media posts that are advertised on their Twitter page. Twitter interaction is all well and good, but knowing how many users are drawn in by the Tweet and take the next step is vital to understanding the effect of a social media campaign."
   ]
  }
 ],
 "metadata": {
  "kernelspec": {
   "display_name": "Python 3 (ipykernel)",
   "language": "python",
   "name": "python3"
  },
  "language_info": {
   "codemirror_mode": {
    "name": "ipython",
    "version": 3
   },
   "file_extension": ".py",
   "mimetype": "text/x-python",
   "name": "python",
   "nbconvert_exporter": "python",
   "pygments_lexer": "ipython3",
   "version": "3.10.4"
  }
 },
 "nbformat": 4,
 "nbformat_minor": 5
}
